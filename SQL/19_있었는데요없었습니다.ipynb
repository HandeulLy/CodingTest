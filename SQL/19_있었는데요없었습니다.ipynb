{
 "cells": [
  {
   "cell_type": "code",
   "execution_count": 1,
   "metadata": {},
   "outputs": [
    {
     "output_type": "execute_result",
     "data": {
      "text/plain": "'\\n-- 보호 시작일보다 입양일이 더 빠른 동물의 ID, NAME 조회하는 SQL문 작성\\n-- 결과는 보호 시작일이 빠른 순으로 조회\\n\\nSELECT A_I.ANIMAL_ID, A_I.NAME\\nFROM ANIMAL_INS AS A_I JOIN ANIMAL_OUTS AS A_O\\n    ON A_I.ANIMAL_ID  = A_O.ANIMAL_ID\\nWHERE A_I.DATETIME > A_O.DATETIME\\nORDER BY A_I.DATETIME\\n'"
     },
     "metadata": {},
     "execution_count": 1
    }
   ],
   "source": [
    "'''\n",
    "-- 보호 시작일보다 입양일이 더 빠른 동물의 ID, NAME 조회하는 SQL문 작성\n",
    "-- 결과는 보호 시작일이 빠른 순으로 조회\n",
    "\n",
    "SELECT A_I.ANIMAL_ID, A_I.NAME\n",
    "FROM ANIMAL_INS AS A_I JOIN ANIMAL_OUTS AS A_O\n",
    "    ON A_I.ANIMAL_ID  = A_O.ANIMAL_ID\n",
    "WHERE A_I.DATETIME > A_O.DATETIME\n",
    "ORDER BY A_I.DATETIME\n",
    "'''"
   ]
  }
 ],
 "metadata": {
  "language_info": {
   "codemirror_mode": {
    "name": "ipython",
    "version": 3
   },
   "file_extension": ".py",
   "mimetype": "text/x-python",
   "name": "python",
   "nbconvert_exporter": "python",
   "pygments_lexer": "ipython3",
   "version": "3.6.10-final"
  },
  "orig_nbformat": 2,
  "kernelspec": {
   "name": "python3",
   "display_name": "Python 3"
  }
 },
 "nbformat": 4,
 "nbformat_minor": 2
}