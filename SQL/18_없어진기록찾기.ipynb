{
 "cells": [
  {
   "cell_type": "code",
   "execution_count": 2,
   "metadata": {},
   "outputs": [
    {
     "output_type": "execute_result",
     "data": {
      "text/plain": "'\\n-- 입양을 간 기록은 있는데, 보호소 등록 정보가 없는 동물의 ID와 이름을 조회하는 SQL문 작성\\n-- 단, ID 순으로 정렬한다\\n\\nSELECT ANIMAL_ID, NAME\\nFROM ANIMAL_INS\\nWHERE ANIMAL_ID NOT IN (\\n    SELECT ANIMAL_ID\\n    FROM ANIMAL_OUTS\\n)\\nORDER BY ANIMAL_ID\\n'"
     },
     "metadata": {},
     "execution_count": 2
    }
   ],
   "source": [
    "'''\n",
    "-- 입양을 간 기록은 있는데, 보호소 등록 정보가 없는 동물의 ID와 이름을 조회하는 SQL문 작성\n",
    "-- 단, ID 순으로 정렬한다\n",
    "\n",
    "SELECT ANIMAL_ID, NAME\n",
    "FROM ANIMAL_OUTS\n",
    "WHERE ANIMAL_ID NOT IN (\n",
    "    SELECT ANIMAL_ID\n",
    "    FROM ANIMAL_OUTS\n",
    ")\n",
    "ORDER BY ANIMAL_ID\n",
    "'''"
   ]
  }
 ],
 "metadata": {
  "language_info": {
   "codemirror_mode": {
    "name": "ipython",
    "version": 3
   },
   "file_extension": ".py",
   "mimetype": "text/x-python",
   "name": "python",
   "nbconvert_exporter": "python",
   "pygments_lexer": "ipython3",
   "version": "3.6.10-final"
  },
  "orig_nbformat": 2,
  "kernelspec": {
   "name": "python3",
   "display_name": "Python 3"
  }
 },
 "nbformat": 4,
 "nbformat_minor": 2
}
