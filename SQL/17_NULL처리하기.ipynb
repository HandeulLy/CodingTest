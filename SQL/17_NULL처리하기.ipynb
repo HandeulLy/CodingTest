{
 "cells": [
  {
   "cell_type": "code",
   "execution_count": 1,
   "metadata": {},
   "outputs": [
    {
     "output_type": "execute_result",
     "data": {
      "text/plain": "'\\n-- TYPE, NAME, SEX_UPON_INTAKE를 ID 순으로 조회\\n-- 이름이 없는 동물의 이름은 \"No name\"으로 표시\\n\\nSELECT ANIMAL_TYPE, IFNULL(NAME, \"No name\"), SEX_UPON_INTAKE\\nFROM ANIMAL_INS\\nORDER BY ANIMAL_ID\\n'"
     },
     "metadata": {},
     "execution_count": 1
    }
   ],
   "source": [
    "'''\n",
    "-- TYPE, NAME, SEX_UPON_INTAKE를 ID 순으로 조회\n",
    "-- 이름이 없는 동물의 이름은 \"No name\"으로 표시\n",
    "\n",
    "SELECT ANIMAL_TYPE, IFNULL(NAME, \"No name\"), SEX_UPON_INTAKE\n",
    "FROM ANIMAL_INS\n",
    "ORDER BY ANIMAL_ID\n",
    "'''"
   ]
  }
 ],
 "metadata": {
  "language_info": {
   "codemirror_mode": {
    "name": "ipython",
    "version": 3
   },
   "file_extension": ".py",
   "mimetype": "text/x-python",
   "name": "python",
   "nbconvert_exporter": "python",
   "pygments_lexer": "ipython3",
   "version": "3.6.10-final"
  },
  "orig_nbformat": 2,
  "kernelspec": {
   "name": "python3",
   "display_name": "Python 3"
  }
 },
 "nbformat": 4,
 "nbformat_minor": 2
}