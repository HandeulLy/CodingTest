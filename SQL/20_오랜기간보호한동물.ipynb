{
 "cells": [
  {
   "cell_type": "code",
   "execution_count": 1,
   "metadata": {},
   "outputs": [
    {
     "output_type": "execute_result",
     "data": {
      "text/plain": "'\\n-- 입양을 못 간 동물 찾고,\\n-- 가장 오래 보호소에 있던 동물 3마리 찾고\\n-- 그들의 NAME, DATETIME을 조회하는 SQL문 작성\\n-- 결과는 보호 시작일(DATETIME) 순으로 조회\\n\\nSELECT A_I.NAME, A_I.DATETIME\\nFROM ANIMAL_INS AS A_I\\n    LEFT JOIN ANIMAL_OUTS AS A_O\\n    ON A_I.ANIMAL_ID = A_O.ANIMAL_ID\\nWHERE A_O.ANIMAL_ID IS NULL\\nORDER BY A_I.DATETIME LIMIT 3\\n'"
     },
     "metadata": {},
     "execution_count": 1
    }
   ],
   "source": [
    "'''\n",
    "-- 입양을 못 간 동물 찾고,\n",
    "-- 가장 오래 보호소에 있던 동물 3마리 찾고\n",
    "-- 그들의 NAME, DATETIME을 조회하는 SQL문 작성\n",
    "-- 결과는 보호 시작일(DATETIME) 순으로 조회\n",
    "\n",
    "SELECT A_I.NAME, A_I.DATETIME\n",
    "FROM ANIMAL_INS AS A_I\n",
    "    LEFT JOIN ANIMAL_OUTS AS A_O\n",
    "    ON A_I.ANIMAL_ID = A_O.ANIMAL_ID\n",
    "WHERE A_O.ANIMAL_ID IS NULL\n",
    "ORDER BY A_I.DATETIME LIMIT 3\n",
    "'''"
   ]
  }
 ],
 "metadata": {
  "language_info": {
   "codemirror_mode": {
    "name": "ipython",
    "version": 3
   },
   "file_extension": ".py",
   "mimetype": "text/x-python",
   "name": "python",
   "nbconvert_exporter": "python",
   "pygments_lexer": "ipython3",
   "version": "3.6.10-final"
  },
  "orig_nbformat": 2,
  "kernelspec": {
   "name": "python3",
   "display_name": "Python 3"
  }
 },
 "nbformat": 4,
 "nbformat_minor": 2
}