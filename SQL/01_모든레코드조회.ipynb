{
 "cells": [
  {
   "cell_type": "code",
   "execution_count": 3,
   "metadata": {},
   "outputs": [
    {
     "output_type": "execute_result",
     "data": {
      "text/plain": "'\\n-- ID 순으로 조회하는 SQL문 작성\\n\\nSELECT *\\nFROM ANIMAL_INS\\nORDER BY ANIMAL_ID\\n'"
     },
     "metadata": {},
     "execution_count": 3
    }
   ],
   "source": [
    "'''\n",
    "-- ID 순으로 조회하는 SQL문 작성\n",
    "\n",
    "SELECT *\n",
    "FROM ANIMAL_INS\n",
    "ORDER BY ANIMAL_ID\n",
    "'''"
   ]
  }
 ],
 "metadata": {
  "language_info": {
   "codemirror_mode": {
    "name": "ipython",
    "version": 3
   },
   "file_extension": ".py",
   "mimetype": "text/x-python",
   "name": "python",
   "nbconvert_exporter": "python",
   "pygments_lexer": "ipython3",
   "version": "3.6.10-final"
  },
  "orig_nbformat": 2,
  "kernelspec": {
   "name": "python361064bitbeautyganconda2e340937d5024f419a70df57ae14a5ee",
   "display_name": "Python 3.6.10 64-bit ('beautygan': conda)"
  }
 },
 "nbformat": 4,
 "nbformat_minor": 2
}