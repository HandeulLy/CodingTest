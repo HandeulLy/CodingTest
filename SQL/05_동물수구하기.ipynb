{
 "cells": [
  {
   "cell_type": "code",
   "execution_count": 1,
   "metadata": {},
   "outputs": [
    {
     "output_type": "execute_result",
     "data": {
      "text/plain": "'\\n-- 동물이 몇 마리 있는지 조회하는 SQL 문 작성\\n\\nSELECT COUNT(ANIMAL_ID)\\nFROM ANIMAL_INS\\n'"
     },
     "metadata": {},
     "execution_count": 1
    }
   ],
   "source": [
    "'''\n",
    "-- 동물이 몇 마리 있는지 조회하는 SQL 문 작성\n",
    "\n",
    "SELECT COUNT(ANIMAL_ID)\n",
    "FROM ANIMAL_INS\n",
    "'''"
   ]
  }
 ],
 "metadata": {
  "language_info": {
   "codemirror_mode": {
    "name": "ipython",
    "version": 3
   },
   "file_extension": ".py",
   "mimetype": "text/x-python",
   "name": "python",
   "nbconvert_exporter": "python",
   "pygments_lexer": "ipython3",
   "version": "3.6.10-final"
  },
  "orig_nbformat": 2,
  "kernelspec": {
   "name": "python361064bitbeautyganconda2e340937d5024f419a70df57ae14a5ee",
   "display_name": "Python 3.6.10 64-bit ('beautygan': conda)"
  }
 },
 "nbformat": 4,
 "nbformat_minor": 2
}