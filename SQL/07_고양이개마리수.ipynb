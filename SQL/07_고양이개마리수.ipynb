{
 "cells": [
  {
   "cell_type": "code",
   "execution_count": 1,
   "metadata": {},
   "outputs": [
    {
     "output_type": "execute_result",
     "data": {
      "text/plain": "'\\n-- 고양이와 개가 각각 몇 마리인지 조회하는 SQL문 작성\\n-- 단, 고양이가 개보다 먼저 조회되도록\\n\\nSELECT ANIMAL_TYPE, COUNT(ANIMAL_TYPE) AS \\'count\\'\\nFROM ANIMAL_INS\\nWHERE ANIMAL_TYPE=\"Cat\" OR ANIMAL_TYPE=\"Dog\"\\nGROUP BY ANIMAL_TYPE\\n'"
     },
     "metadata": {},
     "execution_count": 1
    }
   ],
   "source": [
    "'''\n",
    "-- 고양이와 개가 각각 몇 마리인지 조회하는 SQL문 작성\n",
    "-- 단, 고양이가 개보다 먼저 조회되도록\n",
    "\n",
    "SELECT ANIMAL_TYPE, COUNT(ANIMAL_TYPE) AS 'count'\n",
    "FROM ANIMAL_INS\n",
    "WHERE ANIMAL_TYPE=\"Cat\" OR ANIMAL_TYPE=\"Dog\"\n",
    "GROUP BY ANIMAL_TYPE\n",
    "'''"
   ]
  }
 ],
 "metadata": {
  "language_info": {
   "codemirror_mode": {
    "name": "ipython",
    "version": 3
   },
   "file_extension": ".py",
   "mimetype": "text/x-python",
   "name": "python",
   "nbconvert_exporter": "python",
   "pygments_lexer": "ipython3",
   "version": "3.6.10-final"
  },
  "orig_nbformat": 2,
  "kernelspec": {
   "name": "python361064bitbeautyganconda2e340937d5024f419a70df57ae14a5ee",
   "display_name": "Python 3.6.10 64-bit ('beautygan': conda)"
  }
 },
 "nbformat": 4,
 "nbformat_minor": 2
}