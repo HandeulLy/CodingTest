{
 "cells": [
  {
   "cell_type": "code",
   "execution_count": 1,
   "metadata": {},
   "outputs": [
    {
     "output_type": "execute_result",
     "data": {
      "text/plain": "\"\\n-- 젊은 동물의 ID와 NAME을 조회하는 SQL문 작성\\n-- 단, 결과는 ID 순으로 정렬\\n-- '젊음'의 조건 : INTAKE_CONDITION 이 Aged가 아닌 경우\\n\\nSELECT ANIMAL_ID, NAME\\nFROM ANIMAL_INS\\nWHERE INTAKE_CONDITION != 'Aged'\\nORDER BY ANIMAL_ID\\n\""
     },
     "metadata": {},
     "execution_count": 1
    }
   ],
   "source": [
    "'''\n",
    "-- 젊은 동물의 ID와 NAME을 조회하는 SQL문 작성\n",
    "-- 단, 결과는 ID 순으로 정렬\n",
    "-- '젊음'의 조건 : INTAKE_CONDITION 이 Aged가 아닌 경우\n",
    "\n",
    "SELECT ANIMAL_ID, NAME\n",
    "FROM ANIMAL_INS\n",
    "WHERE INTAKE_CONDITION != 'Aged'\n",
    "ORDER BY ANIMAL_ID\n",
    "'''"
   ]
  }
 ],
 "metadata": {
  "language_info": {
   "codemirror_mode": {
    "name": "ipython",
    "version": 3
   },
   "file_extension": ".py",
   "mimetype": "text/x-python",
   "name": "python",
   "nbconvert_exporter": "python",
   "pygments_lexer": "ipython3",
   "version": "3.6.10-final"
  },
  "orig_nbformat": 2,
  "kernelspec": {
   "name": "python3",
   "display_name": "Python 3"
  }
 },
 "nbformat": 4,
 "nbformat_minor": 2
}