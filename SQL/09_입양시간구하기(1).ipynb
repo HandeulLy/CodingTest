{
 "cells": [
  {
   "cell_type": "code",
   "execution_count": 1,
   "metadata": {},
   "outputs": [
    {
     "output_type": "execute_result",
     "data": {
      "text/plain": "'\\n-- 이름 중 두 번 이상 쓰인 이름과 해당 이름 횟수를 조회하는 SQL문 작성\\n-- 이름이 없는 동물은 제외, 결과는 이름 순으로 출력\\n\\nSELECT NAME, COUNT(NAME) AS \"COUNT\"\\nFROM ANIMAL_INS\\nWHERE NAME IS NOT NULL\\nGROUP BY NAME\\nHAVING COUNT(NAME) >= 2\\nORDER BY NAME\\n'"
     },
     "metadata": {},
     "execution_count": 1
    }
   ],
   "source": [
    "'''\n",
    "-- 각 시간대별로 입양 건수를 조회하는 SQL문 작성\n",
    "-- 단, 시간대 순으로 정렬(09:00~19:59)\n",
    "\n",
    "SELECT HOUR(DATETIME) AS HOUR, COUNT(HOUR(DATETIME)) AS COUNT\n",
    "FROM ANIMAL_OUTS\n",
    "WHERE HOUR(DATETIME) BETWEEN 9 AND 19\n",
    "GROUP BY HOUR(DATETIME)\n",
    "ORDER BY HOUR(DATETIME)\n",
    "'''"
   ]
  }
 ],
 "metadata": {
  "language_info": {
   "codemirror_mode": {
    "name": "ipython",
    "version": 3
   },
   "file_extension": ".py",
   "mimetype": "text/x-python",
   "name": "python",
   "nbconvert_exporter": "python",
   "pygments_lexer": "ipython3",
   "version": "3.6.10-final"
  },
  "orig_nbformat": 2,
  "kernelspec": {
   "name": "python3",
   "display_name": "Python 3"
  }
 },
 "nbformat": 4,
 "nbformat_minor": 2
}