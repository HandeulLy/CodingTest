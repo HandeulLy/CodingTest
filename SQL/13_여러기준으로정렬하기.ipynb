{
 "cells": [
  {
   "cell_type": "code",
   "execution_count": 1,
   "metadata": {},
   "outputs": [
    {
     "output_type": "execute_result",
     "data": {
      "text/plain": "'\\n-- 아이디, 이름, 보호 시작일 조회\\n-- 이름 순으로 정렬\\n-- 이름이 같으면 보호를 나중에 시작한 동물 먼저\\n\\nSELECT ANIMAL_ID, NAME, DATETIME\\nFROM ANIMAL_INS\\nORDER BY NAME, DATETIME DESC\\n'"
     },
     "metadata": {},
     "execution_count": 1
    }
   ],
   "source": [
    "'''\n",
    "-- 아이디, 이름, 보호 시작일 조회\n",
    "-- 이름 순으로 정렬\n",
    "-- 이름이 같으면 보호를 나중에 시작한 동물 먼저\n",
    "\n",
    "SELECT ANIMAL_ID, NAME, DATETIME\n",
    "FROM ANIMAL_INS\n",
    "ORDER BY NAME, DATETIME DESC\n",
    "'''"
   ]
  }
 ],
 "metadata": {
  "language_info": {
   "codemirror_mode": {
    "name": "ipython",
    "version": 3
   },
   "file_extension": ".py",
   "mimetype": "text/x-python",
   "name": "python",
   "nbconvert_exporter": "python",
   "pygments_lexer": "ipython3",
   "version": "3.6.10-final"
  },
  "orig_nbformat": 2,
  "kernelspec": {
   "name": "python3",
   "display_name": "Python 3"
  }
 },
 "nbformat": 4,
 "nbformat_minor": 2
}